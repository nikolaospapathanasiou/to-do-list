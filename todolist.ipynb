{
 "cells": [
  {
   "cell_type": "code",
   "execution_count": null,
   "metadata": {},
   "outputs": [],
   "source": [
    "class ToDoList:\n",
    "    def __init__(self):\n",
    "        self.tasks = []\n",
    "\n",
    "    def add_task(self, task):\n",
    "        self.tasks.append({\"task\": task, \"completed\": False})\n",
    "\n",
    "    def view_tasks(self):\n",
    "        if self.tasks:\n",
    "            print(\"To-Do List:\")\n",
    "            for idx, task in enumerate(self.tasks, start=1):\n",
    "                status = \"✔\" if task[\"completed\"] else \" \"\n",
    "                print(f\"{idx}. [{status}] {task['task']}\")\n",
    "        else:\n",
    "            print(\"Your to-do list is empty.\")\n",
    "\n",
    "    def mark_completed(self, task_idx):\n",
    "        if 1 <= task_idx <= len(self.tasks):\n",
    "            self.tasks[task_idx - 1][\"completed\"] = True\n",
    "            print(\"Task marked as completed.\")\n",
    "        else:\n",
    "            print(\"Invalid task index.\")\n",
    "\n",
    "def main():\n",
    "    todo_list = ToDoList()\n",
    "\n",
    "    while True:\n",
    "        print(\"\\nMenu:\")\n",
    "        print(\"1. Add Task\")\n",
    "        print(\"2. View Tasks\")\n",
    "        print(\"3. Mark Task as Completed\")\n",
    "        print(\"4. Exit\")\n",
    "\n",
    "        choice = input(\"Enter your choice (1/2/3/4): \")\n",
    "\n",
    "        if choice == '1':\n",
    "            task = input(\"Enter the task: \")\n",
    "            todo_list.add_task(task)\n",
    "            print(\"Task added to the list.\")\n",
    "        elif choice == '2':\n",
    "            todo_list.view_tasks()\n",
    "        elif choice == '3':\n",
    "            todo_list.view_tasks()\n",
    "            task_idx = int(input(\"Enter the task index to mark as completed: \"))\n",
    "            todo_list.mark_completed(task_idx)\n",
    "        elif choice == '4':\n",
    "            print(\"Exiting the program.\")\n",
    "            break\n",
    "        else:\n",
    "            print(\"Invalid choice. Please choose a valid option.\")\n",
    "\n",
    "if __name__ == \"__main__\":\n",
    "    main()\n"
   ]
  }
 ],
 "metadata": {
  "kernelspec": {
   "display_name": "Python 3",
   "language": "python",
   "name": "python3"
  },
  "language_info": {
   "name": "python",
   "version": "3.11.1"
  },
  "orig_nbformat": 4
 },
 "nbformat": 4,
 "nbformat_minor": 2
}
